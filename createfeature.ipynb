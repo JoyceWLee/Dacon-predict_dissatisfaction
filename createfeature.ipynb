{
  "nbformat": 4,
  "nbformat_minor": 0,
  "metadata": {
    "kernelspec": {
      "display_name": "Environment (conda_tensorflow_p36)",
      "language": "python",
      "name": "conda_tensorflow_p36"
    },
    "language_info": {
      "codemirror_mode": {
        "name": "ipython",
        "version": 3
      },
      "file_extension": ".py",
      "mimetype": "text/x-python",
      "name": "python",
      "nbconvert_exporter": "python",
      "pygments_lexer": "ipython3",
      "version": "3.6.5"
    },
    "colab": {
      "name": "createfeature.ipynb",
      "provenance": [],
      "collapsed_sections": [
        "jQu46bRi65lV"
      ]
    }
  },
  "cells": [
    {
      "cell_type": "code",
      "metadata": {
        "id": "xd96a9XGN97V"
      },
      "source": [
        ""
      ],
      "execution_count": null,
      "outputs": []
    },
    {
      "cell_type": "code",
      "metadata": {
        "colab": {
          "base_uri": "https://localhost:8080/"
        },
        "id": "RuqJwy8UMf_s",
        "outputId": "c3d23b29-12fe-4f1c-ccf4-45877abfb247"
      },
      "source": [
        "from google.colab import drive \r\n",
        "drive.mount('/content/drive')"
      ],
      "execution_count": null,
      "outputs": [
        {
          "output_type": "stream",
          "text": [
            "Mounted at /content/drive\n"
          ],
          "name": "stdout"
        }
      ]
    },
    {
      "cell_type": "code",
      "metadata": {
        "id": "X3PIs5Bg65k9"
      },
      "source": [
        "import pandas as pd\n",
        "import numpy as np\n",
        "import pandas as pd\n",
        "import numpy as np\n",
        "import datetime as dt\n",
        "import matplotlib.pyplot as plt\n",
        "from tqdm import tqdm\n",
        "import gc\n",
        "import random\n",
        "import lightgbm as lgb\n",
        "import re\n",
        "from sklearn.metrics import *\n",
        "from sklearn.model_selection import KFold\n",
        "import warnings\n",
        "warnings.filterwarnings(action='ignore')"
      ],
      "execution_count": null,
      "outputs": []
    },
    {
      "cell_type": "code",
      "metadata": {
        "id": "QpJZl45865lJ"
      },
      "source": [
        "train_err = pd.read_csv('/content/drive/MyDrive/Datacon/ld_data/train_err_data.csv')\n",
        "train_qual = pd.read_csv('/content/drive/MyDrive/Datacon/ld_data/train_quality_data.csv')\n",
        "train_prob = pd.read_csv('/content/drive/MyDrive/Datacon/ld_data/train_problem_data.csv')\n",
        "\n",
        "test_err = pd.read_csv('/content/drive/MyDrive/Datacon/ld_data/test_err_data.csv')\n",
        "test_qual = pd.read_csv('/content/drive/MyDrive/Datacon/ld_data/test_quality_data.csv')"
      ],
      "execution_count": null,
      "outputs": []
    },
    {
      "cell_type": "markdown",
      "metadata": {
        "id": "nGWV9QM565lK"
      },
      "source": [
        "# create columns"
      ]
    },
    {
      "cell_type": "markdown",
      "metadata": {
        "id": "y4As1ooI65lL"
      },
      "source": [
        "## 1. error type"
      ]
    },
    {
      "cell_type": "markdown",
      "metadata": {
        "id": "CEr4a0UW65lL"
      },
      "source": [
        "train"
      ]
    },
    {
      "cell_type": "code",
      "metadata": {
        "id": "T33C0PcO65lM",
        "outputId": "395946aa-6cf5-464b-dcc7-e83249096a8c"
      },
      "source": [
        "train_user_id_max = 24999\n",
        "train_user_id_min = 10000\n",
        "train_user_number = 15000\n",
        "\n",
        "id_error = train_err[['user_id','errtype']].values\n",
        "train_error = np.zeros((train_user_number,42))\n",
        "\n",
        "for person_idx, err in tqdm(id_error):\n",
        "    train_error[person_idx - train_user_id_min,err - 1] += 1\n",
        "\n",
        "train_error.shape"
      ],
      "execution_count": null,
      "outputs": [
        {
          "output_type": "stream",
          "text": [
            "100%|██████████| 16554663/16554663 [00:47<00:00, 347088.49it/s]\n"
          ],
          "name": "stderr"
        },
        {
          "output_type": "execute_result",
          "data": {
            "text/plain": [
              "(15000, 42)"
            ]
          },
          "metadata": {
            "tags": []
          },
          "execution_count": 3
        }
      ]
    },
    {
      "cell_type": "markdown",
      "metadata": {
        "id": "_Mj6hOvZ65lN"
      },
      "source": [
        "test"
      ]
    },
    {
      "cell_type": "code",
      "metadata": {
        "id": "7UfRCf1j65lO",
        "outputId": "b1a3f6d7-a39d-4c73-c91f-cbac84b30329"
      },
      "source": [
        "test_user_id_max = 44998\n",
        "test_user_id_min = 30000\n",
        "test_user_number = 14999\n",
        "\n",
        "id_error = test_err[['user_id','errtype']].values\n",
        "test_error = np.zeros((test_user_number,42))\n",
        "\n",
        "for person_idx, err in tqdm(id_error):\n",
        "    test_error[person_idx - test_user_id_min,err - 1] += 1\n",
        "test_error = test_error.reshape(test_error.shape[0],-1)\n",
        "print(test_error.shape)"
      ],
      "execution_count": null,
      "outputs": [
        {
          "output_type": "stream",
          "text": [
            "100%|██████████| 16532648/16532648 [00:47<00:00, 346756.84it/s]"
          ],
          "name": "stderr"
        },
        {
          "output_type": "stream",
          "text": [
            "(14999, 42)\n"
          ],
          "name": "stdout"
        },
        {
          "output_type": "stream",
          "text": [
            "\n"
          ],
          "name": "stderr"
        }
      ]
    },
    {
      "cell_type": "markdown",
      "metadata": {
        "id": "8KGhrRj_65lO"
      },
      "source": [
        "## fwver"
      ]
    },
    {
      "cell_type": "markdown",
      "metadata": {
        "id": "ClBt01qD65lP"
      },
      "source": [
        "train"
      ]
    },
    {
      "cell_type": "code",
      "metadata": {
        "id": "naeVJayF65lP",
        "outputId": "69616291-01af-4421-ac2f-748ce86662aa"
      },
      "source": [
        "train_err['fw1'] = train_err.fwver.str.split('.').str[0]\n",
        "train_err['fw2'] = train_err.fwver.str.split('.').str[1]\n",
        "train_err['fw3'] = train_err.fwver.str.split('.').str[2]\n",
        "\n",
        "train_fw = train_err[['user_id', 'fw1', 'fw2', 'fw3']]\n",
        "fw_desc = train_fw.groupby('user_id').describe()\n",
        "fw = fw_desc.iloc[:, fw_desc.columns.get_level_values(1)=='top']\n",
        "\n",
        "train_fw = fw.to_numpy()\n",
        "train_fw"
      ],
      "execution_count": null,
      "outputs": [
        {
          "output_type": "execute_result",
          "data": {
            "text/plain": [
              "array([['05', '15', '2138'],\n",
              "       ['04', '33', '1261'],\n",
              "       ['05', '15', '2138'],\n",
              "       ...,\n",
              "       ['04', '22', '1750'],\n",
              "       ['04', '22', '1778'],\n",
              "       ['05', '15', '2138']], dtype=object)"
            ]
          },
          "metadata": {
            "tags": []
          },
          "execution_count": 5
        }
      ]
    },
    {
      "cell_type": "markdown",
      "metadata": {
        "id": "0etJNSvd65lP"
      },
      "source": [
        "test"
      ]
    },
    {
      "cell_type": "code",
      "metadata": {
        "id": "yvGfpgl165lQ",
        "outputId": "68b58e93-a27f-4543-8976-d3e5c904391c"
      },
      "source": [
        "# split fwver to 3 columns\n",
        "test_err['fw1'] = test_err.fwver.str.split('.').str[0]\n",
        "test_err['fw2'] = test_err.fwver.str.split('.').str[1]\n",
        "test_err['fw3'] = test_err.fwver.str.split('.').str[2]\n",
        "\n",
        "# select the most frquent values in 3 columns\n",
        "test_fw = test_err[['user_id', 'fw1', 'fw2', 'fw3']]\n",
        "fw_desc = test_fw.groupby('user_id').describe()\n",
        "fw = fw_desc.iloc[:, fw_desc.columns.get_level_values(1)=='top']\n",
        "\n",
        "# conver to numpy array\n",
        "fw_arr_test = fw.to_numpy()\n",
        "\n",
        "# 인덱스 맞춰주기\n",
        "test_fw = np.zeros((14999, 3))\n",
        "test_fw[fw.index-test_user_id_min] = fw.loc[fw.index]\n",
        "\n",
        "test_fw.shape"
      ],
      "execution_count": null,
      "outputs": [
        {
          "output_type": "execute_result",
          "data": {
            "text/plain": [
              "(14999, 3)"
            ]
          },
          "metadata": {
            "tags": []
          },
          "execution_count": 6
        }
      ]
    },
    {
      "cell_type": "markdown",
      "metadata": {
        "id": "KdxWbo2-65lQ"
      },
      "source": [
        "## quality"
      ]
    },
    {
      "cell_type": "code",
      "metadata": {
        "id": "6TH-bO3965lR"
      },
      "source": [
        "def get_quality(qual_df, qual_list, min_user_id, user_num, method=None):\n",
        "\n",
        "    \"\"\"\n",
        "    quality value 값 뽑기\n",
        "    none 값은 ffill 방법으로 채우고, ffill로 채워지지 않은 값은 0으로 채운다\n",
        "\n",
        "    parameter 설명\n",
        "    qual_df: quality 값을 뽑아낼 데이터프레임\n",
        "    qual_list: 사용할 열 리스트\n",
        "    min_user_id: 가장 작은 user_id(train=10000, test=30000)\n",
        "    user_num: user 갯수(train=15000, test=14999)\n",
        "    method: str, 대표값을 뽑을 때 사용하는 특성(eg. sum, max, std, mad, mean 중 1)\n",
        "    \"\"\"\n",
        "\n",
        "    qual_num = qual_df[qual_list].copy()\n",
        "\n",
        "    # define object columns, 만약 오류나면 obj_col data type list로 바꾸기\n",
        "    obj_col = qual_num.select_dtypes(include='object').columns\n",
        "\n",
        "    # object column to numeric column\n",
        "    for col in obj_col:\n",
        "        qual_num[col] = qual_num[col].astype(str).str.replace(',', '').astype(float)\n",
        "\n",
        "    new_qual = qual_df[['user_id', 'fwver', 'time']].join(qual_num)\n",
        "\n",
        "    # fill missing value\n",
        "    qual_f = new_qual.sort_values(by=['user_id', 'time']).fillna(method='ffill')\n",
        "    qual_f = qual_f.fillna(0)\n",
        "\n",
        "    # method 적용\n",
        "    if method == 'sum':\n",
        "        qual_f = qual_f.groupby('user_id').sum().loc[:, qual_list]\n",
        "        qual = np.zeros((user_num, len(qual_list)))\n",
        "        qual[qual_f.index-min_user_id] = qual_f.loc[qual_f.index]\n",
        "\n",
        "    if method == 'max':\n",
        "        qual_f = qual_f.groupby('user_id').max().loc[:, qual_list]\n",
        "        qual = np.zeros((user_num, len(qual_list)))\n",
        "        qual[qual_f.index-min_user_id] = qual_f.loc[qual_f.index]\n",
        "\n",
        "    if method == 'mean':\n",
        "        qual_f = qual_f.groupby('user_id').mean().loc[:, qual_list]\n",
        "        qual = np.zeros((user_num, len(qual_list)))\n",
        "        qual[qual_f.index-min_user_id] = qual_f.loc[qual_f.index]\n",
        "\n",
        "    if method == 'mad':\n",
        "        qual_f = qual_f.groupby('user_id').mad().loc[:, qual_list]\n",
        "        qual = np.zeros((user_num, len(qual_list)))\n",
        "        qual[qual_f.index-min_user_id] = qual_f.loc[qual_f.index]\n",
        "\n",
        "    if method == 'std':\n",
        "        qual_f = qual_f.groupby('user_id').std().loc[:, qual_list]\n",
        "        qual = np.zeros((user_num, len(qual_list)))\n",
        "        qual[qual_f.index-min_user_id] = qual_f.loc[qual_f.index]\n",
        "        \n",
        "    if method == None:\n",
        "        return qual_f\n",
        "\n",
        "    qual_arr = qual\n",
        "    return qual_arr"
      ],
      "execution_count": null,
      "outputs": []
    },
    {
      "cell_type": "markdown",
      "metadata": {
        "id": "Pscy6cXB65lS"
      },
      "source": [
        "train"
      ]
    },
    {
      "cell_type": "code",
      "metadata": {
        "id": "vBvDlJb965lS"
      },
      "source": [
        "train_qual_sum = get_quality(train_qual, ['quality_'+str(i) for i in [1,2,5,7,8,10,11]], 10000, 15000, method='sum')\n",
        "train_qual_std = get_quality(train_qual, ['quality_'+str(i) for i in [1,2,5,7,8,10,11]], 10000, 15000, method='std')"
      ],
      "execution_count": null,
      "outputs": []
    },
    {
      "cell_type": "markdown",
      "metadata": {
        "id": "6XIFW0-u65lS"
      },
      "source": [
        "test"
      ]
    },
    {
      "cell_type": "code",
      "metadata": {
        "id": "-28iIehH65lS"
      },
      "source": [
        "test_qual_sum = get_quality(test_qual, ['quality_'+str(i) for i in [1,2,5,7,8,10,11]], 30000, 14999, method='sum')\n",
        "test_qual_std = get_quality(test_qual, ['quality_'+str(i) for i in [1,2,5,7,8,10,11]], 30000, 14999, method='std')"
      ],
      "execution_count": null,
      "outputs": []
    },
    {
      "cell_type": "markdown",
      "metadata": {
        "id": "O-57gjdA65lT"
      },
      "source": [
        "# quality log count"
      ]
    },
    {
      "cell_type": "markdown",
      "metadata": {
        "id": "YfiAKUey65lT"
      },
      "source": [
        "train"
      ]
    },
    {
      "cell_type": "code",
      "metadata": {
        "id": "KmUhbj1c65lT"
      },
      "source": [
        "q_cnt = train_qual.groupby('user_id').count()['time']\n",
        "\n",
        "train_qcnt = np.zeros(15000)\n",
        "train_qcnt[q_cnt.index-10000] = q_cnt.loc[q_cnt.index]"
      ],
      "execution_count": null,
      "outputs": []
    },
    {
      "cell_type": "markdown",
      "metadata": {
        "id": "LpTlVIhd65lU"
      },
      "source": [
        "test"
      ]
    },
    {
      "cell_type": "code",
      "metadata": {
        "id": "2BpShAgn65lU"
      },
      "source": [
        "q_cnt = test_qual.groupby('user_id').count()['time']\n",
        "\n",
        "test_qcnt = np.zeros(14999)\n",
        "test_qcnt[q_cnt.index-30000] = q_cnt.loc[q_cnt.index]"
      ],
      "execution_count": null,
      "outputs": []
    },
    {
      "cell_type": "markdown",
      "metadata": {
        "id": "aBYtWtP165lU"
      },
      "source": [
        "# Problem"
      ]
    },
    {
      "cell_type": "code",
      "metadata": {
        "id": "53JTDL-B65lU",
        "outputId": "6610e55d-5fcd-495c-962d-bfa359525167"
      },
      "source": [
        "train_y = np.zeros(15000)\n",
        "train_y[train_prob.user_id.unique()-10000] = 1 \n",
        "train_y.shape"
      ],
      "execution_count": null,
      "outputs": [
        {
          "output_type": "execute_result",
          "data": {
            "text/plain": [
              "(15000,)"
            ]
          },
          "metadata": {
            "tags": []
          },
          "execution_count": 94
        }
      ]
    },
    {
      "cell_type": "markdown",
      "metadata": {
        "id": "jQu46bRi65lV"
      },
      "source": [
        "## Concat"
      ]
    },
    {
      "cell_type": "markdown",
      "metadata": {
        "id": "sw7_0U0Z65lV"
      },
      "source": [
        "train"
      ]
    },
    {
      "cell_type": "code",
      "metadata": {
        "id": "FR16Fc9W65lV",
        "outputId": "eb4f905c-219a-4959-9f99-fd6bf422f705"
      },
      "source": [
        "train_x = np.concatenate((train_error, train_fw, train_qual_sum, train_qual_std, train_qcnt[:, None]), axis=1)\n",
        "train_x.shape"
      ],
      "execution_count": null,
      "outputs": [
        {
          "output_type": "execute_result",
          "data": {
            "text/plain": [
              "(15000, 60)"
            ]
          },
          "metadata": {
            "tags": []
          },
          "execution_count": 81
        }
      ]
    },
    {
      "cell_type": "markdown",
      "metadata": {
        "id": "PWVzGLu365lW"
      },
      "source": [
        "test"
      ]
    },
    {
      "cell_type": "code",
      "metadata": {
        "id": "VPxiJyOO65lW",
        "outputId": "381caa8c-d6a2-4d26-cb4b-9ef4c9a48e94"
      },
      "source": [
        "test_x = np.concatenate((test_error, test_fw, test_qual_sum, test_qual_std, test_qcnt[:, None]), axis=1)\n",
        "test_x.shape"
      ],
      "execution_count": null,
      "outputs": [
        {
          "output_type": "execute_result",
          "data": {
            "text/plain": [
              "(14999, 60)"
            ]
          },
          "metadata": {
            "tags": []
          },
          "execution_count": 88
        }
      ]
    },
    {
      "cell_type": "markdown",
      "metadata": {
        "id": "DFRA4xF265lW"
      },
      "source": [
        "# test13"
      ]
    },
    {
      "cell_type": "code",
      "metadata": {
        "id": "HYTKIZjb65lX"
      },
      "source": [
        "import sklearn\n",
        "import lightgbm\n",
        "from lightgbm import LGBMRegressor\n",
        "import catboost\n",
        "from catboost import CatBoostRegressor\n",
        "import xgboost as xgb"
      ],
      "execution_count": null,
      "outputs": []
    },
    {
      "cell_type": "code",
      "metadata": {
        "id": "LS7_laWV65lX"
      },
      "source": [
        "catboost_best_params_ = {'rsm': 0.5,\n",
        "                          'random_strength': 0.5,\n",
        "                          'n_estimators': 1000,\n",
        "                          'min_child_samples': 5,\n",
        "                          'max_depth': 9,\n",
        "                          'learning_rate': 0.01,\n",
        "                          'l2_leaf_reg': 0.001}\n",
        "lightgbm_best_params_ = {'n_estimators': 1000,\n",
        "                        'min_child_samples': 5,\n",
        "                        'max_depth': 10,\n",
        "                        'learning_rate': 0.01,\n",
        "                        'lambda_l2': 0,\n",
        "                        'lambda_l1': 0.0001,\n",
        "                        'feature_fraction': 0.6}\n",
        "xgb_best_params_ = {'reg_lambda': 0.1,\n",
        "                    'reg_alpha': 0.01,\n",
        "                    'n_estimators': 1000,\n",
        "                    'min_child_weight': 10,\n",
        "                    'max_depth': 6,\n",
        "                    'learning_rate': 0.01}"
      ],
      "execution_count": null,
      "outputs": []
    },
    {
      "cell_type": "code",
      "metadata": {
        "id": "5jGkC9zh65lX",
        "outputId": "5df8a598-a733-4b28-8a06-e7ac75df4d75"
      },
      "source": [
        "cb = CatBoostRegressor(logging_level='Silent', **catboost_best_params_)\n",
        "model_xgb = xgb.XGBRegressor(**xgb_best_params_)\n",
        "lgbm = LGBMRegressor(**lightgbm_best_params_)\n",
        "\n",
        "lgbm.fit(train_x, train_y)\n",
        "y_pred1 = lgbm.predict(train_x)\n",
        "print('lgbm model auc score: {0:0.4f}'. format(roc_auc_score(train_y, y_pred1)))\n",
        "\n",
        "model_xgb.fit(train_x, train_y)\n",
        "y_pred2 = model_xgb.predict(train_x)\n",
        "print('XGBoost model auc score: {0:0.4f}'. format(roc_auc_score(train_y, y_pred2)))\n",
        "\n",
        "cb.fit(train_x, train_y)\n",
        "y_pred3 = cb.predict(train_x)\n",
        "print('cb model auc score: {0:0.4f}'. format(roc_auc_score(train_y, y_pred3)))\n",
        "\n",
        "print('mean value: ', (roc_auc_score(train_y, y_pred1) + roc_auc_score(train_y, y_pred2) + roc_auc_score(train_y, y_pred3)) / 3)\n",
        "\n",
        "pred_y_list = []\n",
        "for model in [lgbm, model_xgb, cb]:\n",
        "    pred_y = model.predict(test_x)\n",
        "    pred_y_list.append(pred_y.reshape(-1,1))\n",
        "    \n",
        "pred_ensemble = np.mean(pred_y_list, axis = 0)\n",
        "sample_submssion = pd.read_csv('./data/sample_submission.csv')\n",
        "sample_submssion['problem'] = pred_ensemble.reshape(-1)\n",
        "\n",
        "sample_submssion.to_csv(\"test_13.csv\", index = False)\n",
        "pd.read_csv('test_13.csv').head()"
      ],
      "execution_count": null,
      "outputs": [
        {
          "output_type": "stream",
          "text": [
            "[LightGBM] [Warning] lambda_l1 is set=0.0001, reg_alpha=0.0 will be ignored. Current value: lambda_l1=0.0001\n",
            "[LightGBM] [Warning] feature_fraction is set=0.6, colsample_bytree=1.0 will be ignored. Current value: feature_fraction=0.6\n",
            "[LightGBM] [Warning] lambda_l2 is set=0, reg_lambda=0.0 will be ignored. Current value: lambda_l2=0\n",
            "[LightGBM] [Warning] Accuracy may be bad since you didn't explicitly set num_leaves OR 2^max_depth > num_leaves. (num_leaves=31).\n",
            "lgbm model auc score: 0.9039\n",
            "XGBoost model auc score: 0.8970\n",
            "cb model auc score: 0.9000\n",
            "mean value:  0.9002924\n"
          ],
          "name": "stdout"
        }
      ]
    },
    {
      "cell_type": "code",
      "metadata": {
        "id": "GPW_ClzX65mO"
      },
      "source": [
        ""
      ],
      "execution_count": null,
      "outputs": []
    }
  ]
}